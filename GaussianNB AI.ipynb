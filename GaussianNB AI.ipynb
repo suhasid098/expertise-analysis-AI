{
 "cells": [
  {
   "cell_type": "code",
   "execution_count": 1,
   "id": "4776d9f1",
   "metadata": {},
   "outputs": [],
   "source": [
    "import numpy as np\n",
    "from sklearn.naive_bayes import GaussianNB"
   ]
  },
  {
   "cell_type": "code",
   "execution_count": 9,
   "id": "2df0e8dd",
   "metadata": {},
   "outputs": [],
   "source": [
    "X = np.array([[6,180,12], [5.92,190,11],[5.58,170,12],[5.92,165,10],[5,100,6],[5.5,150,8],[5.42,130,7],[5.75,150,9]])\n",
    "Y = np.array([['male'],['male'],['male'],['male'],['female'],['female'],['female'],['female']])\n",
    "clf=GaussianNB()"
   ]
  },
  {
   "cell_type": "code",
   "execution_count": 33,
   "id": "d1ef2500",
   "metadata": {},
   "outputs": [
    {
     "name": "stdout",
     "output_type": "stream",
     "text": [
      "['Gunning Fog Index', 'Flesch Reading Ease', 'Flesch-Kincaid Grade']\n"
     ]
    }
   ],
   "source": [
    "list = [scores.columns[3], scores.columns[4], scores.columns[5]]\n",
    "print(list)"
   ]
  },
  {
   "cell_type": "code",
   "execution_count": null,
   "id": "fb6345a8",
   "metadata": {},
   "outputs": [],
   "source": []
  },
  {
   "cell_type": "code",
   "execution_count": null,
   "id": "3bd9dc4a",
   "metadata": {},
   "outputs": [],
   "source": []
  }
 ],
 "metadata": {
  "kernelspec": {
   "display_name": "Python 3 (ipykernel)",
   "language": "python",
   "name": "python3"
  },
  "language_info": {
   "codemirror_mode": {
    "name": "ipython",
    "version": 3
   },
   "file_extension": ".py",
   "mimetype": "text/x-python",
   "name": "python",
   "nbconvert_exporter": "python",
   "pygments_lexer": "ipython3",
   "version": "3.9.6"
  }
 },
 "nbformat": 4,
 "nbformat_minor": 5
}
